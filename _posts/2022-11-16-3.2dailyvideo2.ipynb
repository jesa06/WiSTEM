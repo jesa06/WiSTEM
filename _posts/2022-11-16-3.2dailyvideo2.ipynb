# 3.2 Daily Video 2
> Using lists as an abstraction to manage the complexity of a program.

- toc: true 
- badges: true
- comments: true
- categories: [jupyter]