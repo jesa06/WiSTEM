{
 "cells": [
  {
   "cell_type": "markdown",
   "metadata": {},
   "source": [
    "# 3.2 Data Abstraction Video 2\n",
    "> Using lists as an abstraction to manage the complexity of a program.\n",
    "\n",
    "- toc: true \n",
    "- badges: true\n",
    "- comments: true\n",
    "- categories: [jupyter]\n"
   ]
  },
  {
   "cell_type": "markdown",
   "metadata": {},
   "source": [
    "# Lists\n",
    "**Lists allow for data abstraction**\n",
    "Variables like strings, numbers, characters, and more can be bundled together\n",
    "- It could be empty from the start and you can add more variables as needed\n",
    "- If you set one list equal to another list, or transfer data from one list to another, the data will be completely replaced. \n",
    "- You can also append data from one list to another, keeping the old data and adding the new data.\n",
    "\n",
    "# Key Vocabulary \n",
    "- *list*: a sequence of several variables grouped together\n",
    "- *variable*: a way of storing information in a computer program, which could later be changed, referenced, and used\n",
    "- *data types*: a set of values and operations on those values\n",
    "- *abstract data types*: a data type whose internal representation is hidden from the client\n",
    "- *client*: a program that uses a data type\n",
    "- *objects*: an structure  that can take on a data-type value. \n",
    "- *Applications programming interface (API)*: which is a list of constructors and instance methods or operations, used to specify the behavior of an abstract data type\n",
    "\n",
    "# Big Ideas\n",
    "1. Lists can store any types of elements. \n",
    "2. In all lists operations, if a list index is less than 1 or greater than the length of the list, an error message is made and the program will terminate. \n",
    "3. Data abstraction provides a separation between the abstract properties of a data type and the concrete details of its representation. \n"
   ]
  },
  {
   "cell_type": "markdown",
   "metadata": {},
   "source": [
    "# 1. Your turn to interact, try it now!\n",
    "Change the amount of coding languages to change the length to 5."
   ]
  },
  {
   "cell_type": "code",
   "execution_count": null,
   "metadata": {},
   "outputs": [],
   "source": [
    "languages_list = []\n",
    "languages_list = [\"Python\", \"C++\", \"JavaScript\"]"
   ]
  },
  {
   "cell_type": "markdown",
   "metadata": {},
   "source": [
    "# 2. Change the following code to print out the list.\n"
   ]
  },
  {
   "cell_type": "code",
   "execution_count": 1,
   "metadata": {},
   "outputs": [
    {
     "name": "stdout",
     "output_type": "stream",
     "text": [
      "\n"
     ]
    }
   ],
   "source": [
    "languages_list = []\n",
    "languages_list = [\"Python\", \"C++\", \"JavaScript\"]\n",
    "print()"
   ]
  },
  {
   "cell_type": "markdown",
   "metadata": {},
   "source": [
    "# 3. Change the following code to print out only \"Python\"\n"
   ]
  },
  {
   "cell_type": "code",
   "execution_count": 6,
   "metadata": {},
   "outputs": [
    {
     "ename": "SyntaxError",
     "evalue": "invalid syntax (3643211896.py, line 3)",
     "output_type": "error",
     "traceback": [
      "\u001b[0;36m  Input \u001b[0;32mIn [6]\u001b[0;36m\u001b[0m\n\u001b[0;31m    print(languages_list[])\u001b[0m\n\u001b[0m                         ^\u001b[0m\n\u001b[0;31mSyntaxError\u001b[0m\u001b[0;31m:\u001b[0m invalid syntax\n"
     ]
    }
   ],
   "source": [
    "languages_list = []\n",
    "languages_list = [\"Python\", \"C++\", \"JavaScript\"]\n",
    "print(languages_list[])"
   ]
  },
  {
   "cell_type": "markdown",
   "metadata": {},
   "source": [
    "# 4. Replace contents/data of listA with contents/data from listB."
   ]
  },
  {
   "cell_type": "code",
   "execution_count": 9,
   "metadata": {},
   "outputs": [
    {
     "name": "stdout",
     "output_type": "stream",
     "text": [
      "[22, 7, 13]\n"
     ]
    }
   ],
   "source": [
    "listA = []\n",
    "listA = [1, 55, 8, 2, 76]\n",
    "listB = []\n",
    "listB = [22, 7, 13]\n",
    "\n",
    "print(listB)"
   ]
  },
  {
   "cell_type": "markdown",
   "metadata": {},
   "source": [
    "# 5. Make 2 lists:\n",
    "- a list of string data\n",
    "- a list of number data\n",
    "- the length of the each list is a minimum of 4 \n",
    "- change the names of the lists"
   ]
  },
  {
   "cell_type": "code",
   "execution_count": null,
   "metadata": {},
   "outputs": [],
   "source": [
    "listA = []\n",
    "listB = []"
   ]
  },
  {
   "cell_type": "markdown",
   "metadata": {},
   "source": [
    "# 6. Combine the list to contain all of the data from both lists.\n",
    "<details closed>\n",
    "<summary>Hint!</summary>\n",
    "Use Append\n",
    "</details>"
   ]
  },
  {
   "cell_type": "code",
   "execution_count": null,
   "metadata": {},
   "outputs": [],
   "source": [
    "listA = []\n",
    "listB = []"
   ]
  },
  {
   "cell_type": "markdown",
   "metadata": {},
   "source": [
    "# Homework/Hacks\n",
    "**Consider the following code segment:**\n",
    "- scores1 <- [89, 78, 92, 63, 95, 88]\n",
    "- scores2 <- [92, 79, 97, 63]\n",
    "- scores1 <- scores2\n",
    "\n",
    "What are the contents of *scores1* after the code segment is executed?: \n",
    "\n",
    "1. [89, 78, 92, 63, 95, 88]\n",
    "2. [89, 78, 92, 63, 95, 88, 92, 79, 97, 63]\n",
    "3. [92, 79, 97, 63, 89, 78, 92, 63, 95, 88]\n",
    "4. [92, 79, 97, 63]\n",
    "    \n",
    "<details closed>\n",
    "<summary>Click for the answer!</summary>\n",
    "    4. Because the data is not being appended from scores2 into scores1. \n",
    "</details>\n",
    "\n",
    "\n",
    "**Consider the following code segment:**\n",
    "- listA <- [\"Sam\", \"Ann\"]\n",
    "- listB <- [\"Jamal\", \"Tamara\"]\n",
    "- listB <- listA\n",
    "- listA <- listB\n",
    "\n",
    "What are the contents of *listA* after the code segment is executed?\n",
    "\n",
    "1. [\"Sam\", \"Ann\"]\n",
    "2. [\"Jamal\", \"Tamara\"]\n",
    "3. [\"Sam\", \"Ann\", \"Jamal\", \"Tamara\"]\n",
    "4. [\"Jamal\", \"Tamara\", \"Sam\", \"Ann\"]\n",
    "\n",
    "<details closed>\n",
    "<summary>Click for the answer!</summary>\n",
    "1. Because all of the data from listA \"Sam\" and \"Ann\" replace what is in listB. So if listB replaces what is in listA, \"Sam\" and \"Ann\" will still be the only data in that list. \n",
    "</details>\n",
    "\n",
    "**What is the length of this list?**\n",
    "[\"Red\", \"Orange\", \"Yellow\", \"Green\", \"Blue\", \"Purple\"]\n",
    "1. 5\n",
    "2. 7\n",
    "3. 6\n",
    "4. 4\n",
    "\n",
    "<details closed>\n",
    "<summary>Click for the answer!</summary>\n",
    "3. The length of the list is 6. \n",
    "</details>\n",
    "\n",
    "**What is the index number of \"Purple\" in this list?**\n",
    "[\"Red\", \"Orange\", \"Yellow\", \"Green\", \"Blue\", \"Purple\"]\n",
    "1. 7\n",
    "2. 0\n",
    "3. 6\n",
    "4. 5\n",
    "\n",
    "<details closed>\n",
    "<summary>Click for the answer!</summary>\n",
    "4. The index count starts at 0, making \"Red\" 0 and \"Purple\" index 5. \n",
    "</details>\n",
    "\n",
    "Which of the following types of data can be stored in a list?\n",
    "1. Boolean\n",
    "2. String\n",
    "3. Float\n",
    "4. All of the above\n",
    "\n",
    "<details closed>\n",
    "<summary>Click for the answer!</summary>\n",
    "4. Any type of data can be stored within a list. A list can contain a mix of types of data. \n",
    "</details>"
   ]
  }
 ],
 "metadata": {
  "kernelspec": {
   "display_name": "Python 3.8.9 64-bit",
   "language": "python",
   "name": "python3"
  },
  "language_info": {
   "codemirror_mode": {
    "name": "ipython",
    "version": 3
   },
   "file_extension": ".py",
   "mimetype": "text/x-python",
   "name": "python",
   "nbconvert_exporter": "python",
   "pygments_lexer": "ipython3",
   "version": "3.8.9"
  },
  "orig_nbformat": 4,
  "vscode": {
   "interpreter": {
    "hash": "31f2aee4e71d21fbe5cf8b01ff0e069b9275f58929596ceb00d14d90e3e16cd6"
   }
  }
 },
 "nbformat": 4,
 "nbformat_minor": 2
}
