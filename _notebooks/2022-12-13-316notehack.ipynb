{
 "cells": [
  {
   "cell_type": "markdown",
   "metadata": {},
   "source": [
    "# Lina Awad Chapter 3.16 Notes and Homework\n",
    "> Lina Awad: Lesson Notes and hacks\n",
    "\n",
    "- toc: true \n",
    "- layout: default\n",
    "- badges: true\n",
    "- categories: [lessons]"
   ]
  },
  {
   "cell_type": "markdown",
   "metadata": {},
   "source": [
    "#### What is a simulation?\n",
    "- A simulation is a way to simulate real-world environments to test safety or logistics. It's important to use random numbers, consider biases, and consider if a simulation is the best solution.\n",
    "\n",
    "#### Why a simulation and not the real thing?\n",
    "- Simulations are useful because they are:\n",
    "    - safe\n",
    "        - there are no real people involved to get hurt\n",
    "    - inexpensive\n",
    "        - no paying for real people or materials\n",
    "    - repeatable\n",
    "        - it is very reliable because it can be repeated to test the likeliness of outcomes\n",
    "    - accurately model how something would be in the real world\n",
    "-  Simulations are also useful in predicting how something will happen in future based on previously collected data.\n",
    "- Simulations are needed for modeling complicated situations (such as population dynamics or flying a plane) in a much simpler way so that any user can still manage most aspects of the model without delving into complexities.\n",
    "\n",
    "#### True or False\n",
    "\n",
    "- False: A Simulation will always have the same result \n",
    "- True: A simulation investigates a phenomenon without real-world constraints of time, money, or safety\n",
    "- False: A simulation has results which are more accurate than an experiment\n",
    "- True: A simulation can model real-world events that are not practical for experiments\n",
    "\n",
    "#### Example\n",
    "- A role of dice is not really chance and other factors are also taken into consideration.\n",
    "- You can remove details for the simulation\n",
    "\n",
    "#### Article\n",
    "- What techniques do you notice he uses? You should consider both ideas from this lesson and from the other college board key ideas.\n",
    "    - Procedure and iteration\n",
    "    - Flowcharts\n",
    "    - Conditionals\n",
    "    - Removing details; like accidents or weather\n",
    "\n",
    "when making a simulation you should consider:\n",
    "- Removing details, which could be done using pseudo-random number generators\n",
    "- Using other ideas from previous college board lessons; like procedure, flowcharts and conditionals\n",
    "\n"
   ]
  },
  {
   "cell_type": "markdown",
   "metadata": {},
   "source": [
    "### Multiple Choice \n",
    "|Question|Answer|\n",
    "|---|---|\n",
    "|Name(Lina Awad)||\n",
    "|1. In Class|A|\n",
    "|2. In Class|A|\n",
    "|3. What is not a reason to use a pseudo-random number generator when making a simulation?|C|\n",
    "|4. Which of the following is the least likely factor to be removed from a flight(air traffic) simulation for functionality?|C|\n",
    "|5. What is not (usually) a difference between a experiment and a simulation?|C|\n",
    "|6. A car company needs to know how safe it's customers will be if it's new car crashes|A|\n",
    "|7. A environmental group wants an accurate guess on the impact the greenhouse effect will have on the environment|B|\n",
    "|8|No #8|\n",
    "|9. A teacher want's to find the average score from a final|B|"
   ]
  },
  {
   "cell_type": "markdown",
   "metadata": {},
   "source": [
    "### Lesson Reflection:\n",
    "- I really liked this lesson because it was different than the others. The way it was presented was very unique. I like how you guys used slides instead of fastpages for a change. I also liked it because it was very easy to understand the different parts to your lesson and I wasn't very lost all the time. Good Job!!1\n",
    "\n",
    "### Extra/My own simulation"
   ]
  },
  {
   "cell_type": "code",
   "execution_count": 10,
   "metadata": {},
   "outputs": [
    {
     "name": "stdout",
     "output_type": "stream",
     "text": [
      "Spin the wheel!\n",
      "----------------------------------\n",
      "Number of blue: 155\n",
      "Number of red: 145\n"
     ]
    }
   ],
   "source": [
    "import random\n",
    "\n",
    "print(\"Spin the wheel!\")\n",
    "print(\"----------------------------------\")\n",
    "\n",
    "n = 300\n",
    "blue = 0\n",
    "red = 0\n",
    " \n",
    "for i in range(n):\n",
    "    spin = random.randint(1,2)\n",
    "    if spin == 1: # head\n",
    "        blue = blue + 1\n",
    "    else:         # tail\n",
    "        red = red + 1\n",
    " \n",
    "print('Number of blue:', blue)\n",
    "print('Number of red:', red)"
   ]
  },
  {
   "cell_type": "markdown",
   "metadata": {},
   "source": [
    "I made this simulation where it spins a wheel and it could either land on the blue side, or the clicker can land on the red side. In this specific simulation I wrote it so that it is spun 300 hundred times. The result of the simulation shows each color and how many times it landed on this side. \n",
    "- This simulation would be used to determine each likeliness when spinning a wheel\n",
    "- The features I would remove for this simulation include:\n",
    "    - Wind\n",
    "    - Breath\n",
    "    - Force of the spin\n",
    "    - The weight of the spinner thingy"
   ]
  }
 ],
 "metadata": {
  "kernelspec": {
   "display_name": "Python 3.8.9 64-bit",
   "language": "python",
   "name": "python3"
  },
  "language_info": {
   "codemirror_mode": {
    "name": "ipython",
    "version": 3
   },
   "file_extension": ".py",
   "mimetype": "text/x-python",
   "name": "python",
   "nbconvert_exporter": "python",
   "pygments_lexer": "ipython3",
   "version": "3.8.9"
  },
  "orig_nbformat": 4,
  "vscode": {
   "interpreter": {
    "hash": "31f2aee4e71d21fbe5cf8b01ff0e069b9275f58929596ceb00d14d90e3e16cd6"
   }
  }
 },
 "nbformat": 4,
 "nbformat_minor": 2
}
