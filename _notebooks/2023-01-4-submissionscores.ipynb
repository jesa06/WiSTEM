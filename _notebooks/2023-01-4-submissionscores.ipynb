{
 "cells": [
  {
   "cell_type": "markdown",
   "metadata": {},
   "source": [
    "# Performance Task Scoring 1\n",
    "> lina awad\n",
    "\n",
    "- toc: true \n",
    "- layout: default\n",
    "- badges: true\n",
    "- categories: [other]"
   ]
  },
  {
   "cell_type": "markdown",
   "metadata": {},
   "source": [
    "Submission 1:\n",
    "\n",
    "|Category|Student Score|CB Score|Our Comments|CB Comments|Takeaways|\n",
    "|---|---|---|---|---|---|\n",
    "|Program Purpose and Function|1|0|I gave this submission a 1 because they used input and output as well as showing how the program is functioning. Also, in the written response the purpose of the code is clearly described. The issue or purpose is for providing trigonometric values. The function is also described separately.|This actually does not have distinguished program purpose, instead, it is too broad and just described the functionality. Everything was good except the written response.|I learned that to earn the program pupose and function point the two ideas must be clearly separated. If they are not distinct enough, it does not meet the requirements.|\n",
    "|Data Abstraction|1|1|The program has a list of the inputted values of the triangle, then uses this list and applies it in the table and math calculations. The variables are stored as the sideindex as A, B, and C. The table clearly shows what the data is representing. It distinguished cos, sin, tan, etc. The written response has two and explains the purpose of the list.|Two code segments are provided and they also named their list sideindex. The written response is great and the two code segments are distinguished. The inputted values take the name sideIndex|To earn this point there must be a defined name similar to sideIndex to organize inputted values and use them in the program.|\n",
    "|Managing Complexity|1|0|The student includes a list that organizes their code and sets it up into a nice form. However, I'm not sure if this list really is beneficial to the code although the purpose says to get information on the triangle based on inputted sidelengths and if the list sideIndex is classifying the different types of triangles then I believe it helps manage complexity.|The list doesn't manage complexity in the code. The explanations are also not efficient in comparison to the rubric. Also, the student states a line that would actually make their code more difficult to manage without a list.| Managing the complexity is earned only if the code helps with efficiency, unlike this code that made things harder. The explanations also must be up to match with the rubric.|\n",
    "|Procedural Abstraction|1|1|I gave the student a one because they show both a student-developed procedure and a parameter that shows the functionality of the procedure. Additionally, the student shows where the procedure is being called and throughly describes the procedure as well as describing how it contributes to the overall functionality of the program.|College Board gave this student a one for their student-developed procedure: ratioCalculate, code fragment that class ratioCalculate, the students description of functionality, and because the students states how the procedure contributes to the overall program.|To earn this point the student must explain the functionality of different procedures that they also develop and implement in their code. Also, show the impact of procedures.|\n",
    "|Algorithm implentation|1|1|I gave the student a one because they show sequencing, selection, and iteration in their code. As well as, explaining in detailed steps how the algorithm works enough that someone could recreate it.| They show sequencing, selection, and iteration in their code through the function ratioCalculate. Next, college board also gave the student a one because of the way they described the algorithm functionality enough so it could be recreated.|There must be a function or several that sequence, select, and iterate to show understanding and earn the point. The description is also important because it must be precise to the very small details for a point.|\n",
    "|Testing|1|1|I gave the student a one because in 3c the student shows 2 calls to the selected procedure, each different to produce a different segment of code to execute. The student also describes the conditions being called to each procedure, and all in all the student also shows the result of each call in their video.|College board gave the student a one because they describe two different call procedures: ratioCalculate(3.0,4.0,5.0) and ratioCalculate(1.2, 2.3, 3.4). The students response describes the conditions being tested in the procedure calls and identifies the results of each call.|To get a point for testing, there must be evidence there are different conditions being tested and they must show how and where they looked for flaws and achievement in their code.|"
   ]
  },
  {
   "cell_type": "markdown",
   "metadata": {},
   "source": [
    "Submission 2:\n",
    "\n",
    "|Category|Student Score|CB Score|Our Comments|CB Comments|Takeaways|\n",
    "|---|---|---|---|-|-|\n",
    "|Program Purpose and Function|1|1|demonstrates user input, program functionality, and output. In the written response, the student discusses the overall purpose of the program, the functionality of the program, and describes both input and output|The video demonstrates he running of the program: input comes from user placing tiles on the grid, output comes from display of the simulation. And shows user pause, editing, and replaying simulation. Written response specifies program purpose, describes the functionality, and descrines input and output.|Similar to the first sample, I learned that to earn the program pupose and function point the two ideas must be clearly separated. If they are distinct like this example, it earns the points|\n",
    "|Data Abstraction|1|1|Shows how data has been stored in the list and shows how data in the list is being used. Identifies the names of the variables of each list and thoroughly describes the data that is stored in the list.|The written reponse provided two different code segments, one showing data being stored and another showing it being accessed. The name of the list is identified as startGrid, however the other lists are not considered inside the scoring. And the code identifies what is stored in the list.|To receive this point, there must be a defined name used to arrange input values and use them in the program that is comparable to sideIndex.|\n",
    "|Managing Complexity|1|1|The written response shows the a list being used to manage complexity and explains how the list manages complexity and writes how the code could not be written without the list.|College Board gave the student a 1 becuase they stated the list manages complexity through accessing and storing the status (1 or 0) f 10,800 items. As well as, explaining how the code couldn't be written without a list.|Like this code, which made things easier, complexity management is only awarded if the code increases efficiency. Additionally, the explanations must adhere to the rubric.|\n",
    "|Procedural Abstraction|1|1|The student shows a student-develoeped procedure that has one parameter that affects the functionality of the procedure and the student shows where the procedure is being called. The student also describes the identified procedures and describes how it contributes to the overall functionality.|The response contais a student-developed procedure: replaceList. And two parameters: current and replacement. And the student creates a call to the procedure. The response also describes the functionalit of the procedure.|The student must describe the operation of many procedures that they also create and incorporate into their code in order to receive this point. Display the effects of processes as well.|\n",
    "|Algorithm implentation|1|1|The student includes a photo of the develoepd algorithm that included sequencing, selection, and iteration. Algorithm is detailed enough that someone could recreate it.|The student had a student-developed algorithm within procedure: replaceList. Which included sequencing, selection, and iteration. And the response explains in detail how he algorithm in the procedure works. Explained thoroughly to the point of it being able to be recreated.|To demonstrate comprehension and make the point, there needs to be one or more functions that sequence, select, and iterate. The description is crucial since it needs to be accurate down to the smallest of details to make a point.|\n",
    "|Testing|1|1|The student describes two calls to the selected procedure that causes a different segment of code to execute with thorough explanation from the student. They also describe the conditions being tested by each call to the procedure. And they identify the result to the call fo each procedure.|Response describes 2 different calls to the specific procedure and describes the condition being tested. And describes the result of the two calls as well as they both lead to 2 different results.|To earn a point for testing, there must be proof that various scenarios are being tried, and they must demonstrate how and where they searched for bugs and successes in their code.|"
   ]
  }
 ],
 "metadata": {
  "kernelspec": {
   "display_name": "Python 3.8.9 64-bit",
   "language": "python",
   "name": "python3"
  },
  "language_info": {
   "name": "python",
   "version": "3.8.9"
  },
  "orig_nbformat": 4,
  "vscode": {
   "interpreter": {
    "hash": "31f2aee4e71d21fbe5cf8b01ff0e069b9275f58929596ceb00d14d90e3e16cd6"
   }
  }
 },
 "nbformat": 4,
 "nbformat_minor": 2
}
