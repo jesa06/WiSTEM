{
 "cells": [
  {
   "cell_type": "markdown",
   "metadata": {},
   "source": [
    "# Lina Awad Chapter 3.9 and 3.11 Notes and Homework\n",
    "> Lina Awad: Lesson Notes and hacks\n",
    "\n",
    "- toc: true \n",
    "- layout: default\n",
    "- badges: true\n",
    "- categories: [lessons]"
   ]
  },
  {
   "cell_type": "markdown",
   "metadata": {},
   "source": [
    "### 3.9 Video 1\n",
    "\n",
    "Dice Game:\n",
    "- to solve the issue of printing twice.\n",
    "- Small changes and mistakes can have a large impact on the output\n",
    "- There is often more than one way to achieve the same result\n",
    "\n",
    "Conditional vs Boolean:\n",
    "\n",
    "IF (isHoliday)\n",
    "{\n",
    "school⟵false\n",
    "}\n",
    "ELSE\n",
    "{\n",
    "IF(isWeekday)\n",
    "{\n",
    "school⟵true\n",
    "}\n",
    "ELSE\n",
    "{\n",
    "school⟵false\n",
    "}\n",
    "}\n",
    "\n",
    "This can be rewritten to be simpler in pseudo code:\n",
    "\n",
    "school⟵((NOT (isHoliday)) AND (isWeekday))\n",
    "\n",
    "Comparing Algorithms:\n",
    "- Both algorithms work but one of them might add them in the reverse order while the other one would print it in order of the number."
   ]
  },
  {
   "cell_type": "markdown",
   "metadata": {},
   "source": [
    "### 3.9 Video 2\n",
    "\n",
    "Vocab:\n",
    "- Iteration: Repeating steps, or instructions over and over again. ( this could be also often called a loop )\n",
    "- Selection: is a decision or question. At some point in an algorithm there may need to be a question because the algorithm has reached a step where one or more options are available.\n",
    "\n",
    "First Example: Start --> move_forward --> rotate_right --> etc.\n",
    "- The flowchart helps show how you could not repeat and the order of which the block moves.\n",
    "\n"
   ]
  },
  {
   "cell_type": "markdown",
   "metadata": {},
   "source": [
    "### 3.9 Video 3\n",
    "\n",
    "Vocab:\n",
    "- Algorithm: A process or set of rules to be followed in calculations or other problem solving operations, especially by a computer.\n",
    "\n",
    "The algorithm shown won't work because it would move in cirlces."
   ]
  },
  {
   "cell_type": "markdown",
   "metadata": {},
   "source": [
    "### 3.11 Video 1\n",
    "\n",
    "Sequential Search:you compare each number to the number you are searching for. If it is not the number you are looking for you move on. (inefficient method) You can also use this method for strings as well.\n",
    "\n",
    "Binary Search: you have to put the group of numbers from ascending or descending order. What the computer does it takes the lowest index and the highest index, adds them and then divides that value by 2. This gets the middle value and starts the search at the middle of the group\n",
    "\n",
    "This method can apply to strings. They have to be alphebetical or just listed in general.\n",
    "\n",
    "1. d in order\n",
    "2. There are 7 other elements.\n",
    "3. 4 using binary search\n",
    "5. 1 because its the middle value"
   ]
  },
  {
   "cell_type": "markdown",
   "metadata": {},
   "source": [
    "### Hacks\n",
    "\n",
    "1. Write this Boolean statement in the form of a conditional (if/else) statement: stayInside⟵((isCold) OR (isRaining))\n",
    "\n",
    "IF (isCold or isRaining) {\n",
    "    stayInside <- True\n",
    "}\n",
    "ELSE {\n",
    "    stayInside <- False\n",
    "}"
   ]
  },
  {
   "cell_type": "code",
   "execution_count": 1,
   "metadata": {},
   "outputs": [
    {
     "name": "stdout",
     "output_type": "stream",
     "text": [
      "[0, 7, 8, 9]\n",
      "Maximum score: 9\n"
     ]
    }
   ],
   "source": [
    "2. \n",
    "\n",
    "import random\n",
    "\n",
    "randomNumber = []\n",
    "i = 1 \n",
    "while i <= 4:\n",
    "    num = random.randint(0,10) \n",
    "    randomNumber.append(num)\n",
    "    i = i +1 \n",
    "\n",
    "def sort(randomNumber):\n",
    "    for index in range(1,len(randomNumber)): # repeats through length of the array\n",
    "        value = randomNumber[index]\n",
    "        i = index - 1\n",
    "        while i >= 0:\n",
    "            if value < randomNumber[i]:\n",
    "                randomNumber[i+1] = randomNumber[i] # shift number in slot i to the right\n",
    "                randomNumber[i] = value # shift value left into slot i\n",
    "                i = i - 1\n",
    "            else:\n",
    "                break\n",
    "\n",
    "sort(randomNumber)\n",
    "print(randomNumber)\n",
    "\n",
    "\n",
    "# print(\"Length\", len(randomNumber))\n",
    "print(\"Maximum score:\", randomNumber[len(randomNumber)-1])"
   ]
  },
  {
   "cell_type": "markdown",
   "metadata": {},
   "source": [
    "3. Create an algorithm that will allow the arrow to reach the gray square:\n",
    "\n",
    "{\n",
    "if CANMOVEFORWARD{\n",
    "    moveForward\n",
    "}\n",
    "else{\n",
    "    if CANTURNRIGHT{\n",
    "        turnright\n",
    "    }\n",
    "    if CANTURNLEFT{\n",
    "        turnleft\n",
    "    }\n",
    "}\n",
    "}"
   ]
  },
  {
   "cell_type": "markdown",
   "metadata": {},
   "source": [
    "4. Make a binary search tree of different the list [1,2,3,4,6,9,11,69]\n",
    "\n",
    "*Picture on the google doc*"
   ]
  },
  {
   "cell_type": "markdown",
   "metadata": {},
   "source": [
    "5. Explain thorughly how to find the number 69 in the list above (use key words)\n",
    "- To find the number 69 in the list using binary search the first number taken will be 6(the middle number index 4.5 rounded to 5th index). Then you have to look for the numbers greater than 6. Keep examining the left and right of the index by adding them and dividing it by 2 before you get to 69. If you want to use sequential search it would take longer to look through each index."
   ]
  },
  {
   "cell_type": "markdown",
   "metadata": {},
   "source": [
    "6. Make a diagram explaining how you found the list (not tree, include equation)\n",
    "\n",
    "(8+1)/2 = 4.5 = 5LST = 6\n",
    "\n",
    "(5+8)/2 = 6.5 = 7LST = 11\n",
    "\n",
    "(8+8)/2 = 8LST = 69"
   ]
  },
  {
   "cell_type": "markdown",
   "metadata": {},
   "source": [
    "7. Put this list of strings in a order that can be used for binary search [“store”,”Market”,”Walmart”,Target”,”Ralphs”]\n",
    "\n",
    "I think it could it be alphabetical because as the index gets greater the first letter will be later in the alphabet making it a solid order: [”Market”,”Ralphs”,“store”,\"Target”,”Walmart”]"
   ]
  },
  {
   "cell_type": "markdown",
   "metadata": {},
   "source": [
    "8. Explain why Binary Search is more efficient than Sequential Search\n",
    "\n",
    "- Binary search is more efficient than sequential search because sequential search has to run through each index in a list to search for the desired value. Sequential search on the other hand will use a more efficient way to find the value in less steps. For binary search, it takes the lowest index and the highest index, adds them and then divides that value by 2. It repeats its process until it finds the desired value"
   ]
  },
  {
   "cell_type": "markdown",
   "metadata": {},
   "source": [
    "9. [64,36,16,11,9] Explain which number you are finding, how many check it would take, and make a binary search tree\n",
    "\n",
    "Which number I am finding: 36\n",
    "\n",
    "How many checks would it take: 2 checks based on the tree\n",
    "- (1+5)/2 = 3\n",
    "- (1+3)/2 = 2\n",
    "\n",
    "Binary search tree: linked in the google doc"
   ]
  },
  {
   "cell_type": "markdown",
   "metadata": {},
   "source": [
    "Reflection: I really liked this lesson because I thought it was fun and organized. I think my favorite part was the rap that everyone had to make. It was creative and different but also fun for the whole class. I also learned a lot of new stuff in this lesson. The part about sequential search and binary search was the most informative for me because it was all new. Good Job."
   ]
  },
  {
   "cell_type": "markdown",
   "metadata": {},
   "source": [
    "# Extra Stuff:\n",
    "\n",
    "### 1\n",
    "\n",
    "My own conditional statement and rewriting it as pseudo code boolean scenario:\n",
    "\n",
    "conditional statement using the lesson and examples:\n",
    "\n",
    "IF (isYummy)\n",
    "{\n",
    "    buy⟵true\n",
    "}\n",
    "ELSE\n",
    "{\n",
    "    IF(isGross)\n",
    "    {\n",
    "    buy⟵false\n",
    "    }\n",
    "    ELSE\n",
    "    {\n",
    "    buy⟵true\n",
    "    }\n",
    "}\n",
    "\n",
    "- First conditional: If isYummy is true, you should buy the cookie\n",
    "\n",
    "- Second conditional: If isGross is true, you shouldn't buy the cookie. However, if it is false, buying is also false\n",
    "\n",
    "Rewritten as a boolean scenario:\n",
    "\n",
    "buy⟵((NOT (isYummy)) AND (isGross))\n",
    "\n",
    "Is either one better?\n",
    "- No because each gives the same result, the boolean statement just takes fewer steps so it is more efficient."
   ]
  },
  {
   "cell_type": "markdown",
   "metadata": {},
   "source": [
    "### 2\n",
    "\n",
    "Look at google doc for the maze that would follow this algorithm\n",
    "- The orange block needs to get to the finish line. But, it is only allowed to move on the black squares to the finish.\n",
    "\n",
    "{\n",
    "if CANMOVEFORWARD{\n",
    "    moveForward\n",
    "}\n",
    "else{\n",
    "    if CANTURNRIGHT{\n",
    "        turnright\n",
    "    }\n",
    "}\n",
    "}"
   ]
  },
  {
   "cell_type": "markdown",
   "metadata": {},
   "source": [
    "### 3\n",
    "\n",
    "One more example of binary search tree, the tree is on the google drive\n",
    "\n",
    "[14,9,8,5,4,3,2,1] find 14\n",
    "\n",
    "How many checks? 3\n",
    "\n",
    "\n",
    "(8+1)/2 = 4.5 = 5LST = 4\n",
    "\n",
    "(1+5)/2 = 3 = 3LST = 8\n",
    "\n",
    "(1+1)/2 = 1 = 1LST = 14"
   ]
  }
 ],
 "metadata": {
  "kernelspec": {
   "display_name": "Python 3.8.9 64-bit",
   "language": "python",
   "name": "python3"
  },
  "language_info": {
   "codemirror_mode": {
    "name": "ipython",
    "version": 3
   },
   "file_extension": ".py",
   "mimetype": "text/x-python",
   "name": "python",
   "nbconvert_exporter": "python",
   "pygments_lexer": "ipython3",
   "version": "3.8.9"
  },
  "orig_nbformat": 4,
  "vscode": {
   "interpreter": {
    "hash": "31f2aee4e71d21fbe5cf8b01ff0e069b9275f58929596ceb00d14d90e3e16cd6"
   }
  }
 },
 "nbformat": 4,
 "nbformat_minor": 2
}
