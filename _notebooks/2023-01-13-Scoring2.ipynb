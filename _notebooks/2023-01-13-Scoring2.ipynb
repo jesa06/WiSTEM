{
 "cells": [
  {
   "cell_type": "markdown",
   "metadata": {},
   "source": [
    "# Performance Task Scoring 2\n",
    "> lina awad\n",
    "\n",
    "- toc: true \n",
    "- layout: default\n",
    "- badges: true\n",
    "- categories: [other]"
   ]
  },
  {
   "cell_type": "markdown",
   "metadata": {},
   "source": [
    "### 1\n",
    "\n",
    "|Category|CB Score|My Score|Why|\n",
    "|---|---|---|---|\n",
    "|Program Purpose and Function|0|1|I thought that it would have recieved full points because it explains the function of the project very well. However, I missed the idea where the purpose and the function have to be two distinct ideas.|\n",
    "|Data Abstraction|0|0|Although some of the requirements are met, the use of data abstraction doesn't directly impact the programs purpose/function. It may be defined, but it is not very program-specific.|\n",
    "|Managing Complexity|0|0|This program didn't show how code is used in managing complexity. The written response also doesn't clarify the specific importance of this code segment.|\n",
    "|Procedural Abstraction|0|0|This shows the parameters of the code, but the procedure that the students develop is not clear enough to the user or reader.|\n",
    "|Algorithm Implementation|0|0|Despite the student including the sequencing, selection, and iteration, they didn't detail the inner workings of the code enough. It must be able to be recreated and followed according to college board.|\n",
    "|Testing|1|1|The student describes the procedure that is being checked and how it is supposed to run as well as the purpose of each aspect assuming it tests as planned.|\n",
    "\n",
    "### Reflection\n",
    "Discrepencies:\n",
    "- The only difference between my scores and college board scoring is the program purpose and function category. What I learned is that there must be a line between purpose and function because it is hard for me to differentiate and check if both are present.\n",
    "\n",
    "How my project can meet standards(How am I going to use these lessons?):\n",
    "- From this submission, I learned that there must be a distinct difference betweem the purpose and function of the program. I also know to implement detailed explanations when describing my program because the code without the evidence is not enough to show understanding.\n"
   ]
  },
  {
   "cell_type": "markdown",
   "metadata": {},
   "source": [
    "### 2\n",
    "\n",
    "|Category|CB Score|My Score|Why|\n",
    "|---|---|---|---|\n",
    "|Program Purpose and Function|1|1|This recieved full credit for program purpose and function because the two ideas were very distinct and I could identify them both in seperate ways.|\n",
    "|Data Abstraction|1|1|The data abstraction portion earned 1 point because the list is used correctly and an active part of the program. The variable names are clear and the datas purpose is also very clear.|\n",
    "|Managing Complexity|1|1|This included the code segments that helped manage complexity. They also described how this code is essential and how it provides purpose to the program.|\n",
    "|Procedural Abstraction|1|1|The student showed the parameters of the code and their functions as well as explaining the procedure/purpose. It explains the procedures link to the rest of the program.|\n",
    "|Algorithm Implementation|1|1|The programs code has evidence of sequencing, selection, and iteration. The details are also super clear which gives the sample the full point.|\n",
    "|Testing|1|1|The student describes the procedure that is being checked and how it is supposed to run as well as the purpose of each aspect assuming it tests as planned.|\n",
    "\n",
    "### Reflection\n",
    "Discrepencies:\n",
    "- There were not any differences or confusions with this example because all the pieces were clear to see and understand. I could point out each part and what criteria it met, so I gave everything full credit just like what it earned from college board.\n",
    "\n",
    "How my project can meet standards(How am I going to use these lessons?):\n",
    "- One thing I took away from this sample that I can use for my future work is how they explained their procedure and code with a lot of detail. It showed me a good example of how to explain in order to show full understanding. I also learned that explanations of each section will go very far so I will implement that when creating my program.\n",
    "\n"
   ]
  },
  {
   "cell_type": "markdown",
   "metadata": {},
   "source": [
    "### 3\n",
    "\n",
    "|Category|CB Score|My Score|Why|\n",
    "|---|---|---|---|\n",
    "|Program Purpose and Function|0|0|Since I had trouble in the differentiating purpose and function, this time I was able to see that even though the function was clear, the program wasn't properly defined. It missed the distinction college board wants.|\n",
    "|Data Abstraction|1|1|The list is used correctly and is an active component of the program, earning the data abstraction section 1 point. The objective of the data is likewise extremely apparent, as are the variable names.|\n",
    "|Managing Complexity|1|1|This included the parts of the code that assisted with complexity management. They also discussed the significance of this code and how it gives the program direction.|\n",
    "|Procedural Abstraction|1|1|The student explained the process and goal while also demonstrating the code's arguments and their functions. It illustrates how the various steps fit into the overall program.|\n",
    "|Algorithm Implementation|1|1|There are indications of sequencing, selection, and iteration in the program's code. The sample makes its entire argument because the details are also quite evident.|\n",
    "|Testing|1|1|The student explains the process that is being tested, how it should function, and why each component is important, assuming that testing goes as expected.|\n",
    "\n",
    "### Reflection\n",
    "Discrepencies:\n",
    "- I also didn't have any discrepencies for this sample either. Similarly to the last one, this was very good for the most part especially in terms of how specific and completed this was. Besides the missed purpose, the code was clear and well done so it was simple to grade by criteria.\n",
    "\n",
    "How my project can meet standards(How am I going to use these lessons?):\n",
    "- I am going to use what I learned to meet the standards with my own project by looking to make sure that the code isn't only completed, but also explained. Also, when we do explain it, we should be criteria specific to make sure we define what college board wants us to.\n"
   ]
  },
  {
   "cell_type": "markdown",
   "metadata": {},
   "source": [
    "### 4\n",
    "\n",
    "|Category|CB Score|My Score|Why|\n",
    "|---|---|---|---|\n",
    "|Program Purpose and Function|1|1|The input, output, and program purpose + function are all well displayed/described in their written and video responses. The function and purpose are also distinct and separate so they each can be described. Therefore, it will earn full credti.|\n",
    "|Data Abstraction|0|1|I thought that this would earn full credit in data abstraction but I was wrong about the purpose of the code. Even though they completed the list and it was working well, it didn't directly impact or provide purpose for the program at all, so it didn't earn this point.|\n",
    "|Managing Complexity|0|0|The program that is used doesn't provide the necessary purpose of managing complexity. Despite describing and showing the lists purpose, it doesn't link to managing the full complexity of the program like it is being asked, so it gets no credit.|\n",
    "|Procedural Abstraction|1|1|The student demonstrated the code's arguments and their functionalities while also outlining the procedure and objective. It shows how the individual processes fit into the bigger picture of the program.|\n",
    "|Algorithm Implementation|1|1|The code of the program has evidence of sequencing, selection, and iteration. The sample's entire argument is supported by the fact that the details are likewise readily apparent.|\n",
    "|Testing|0|1|I thought that the process being tested was clear, but in reality the student only describse the conditions tested and does not really describe the arguments of the code execution, earning it a 0|\n",
    "\n",
    "### Reflection\n",
    "Discrepencies:\n",
    "- I had a different score than college board for data abstraction because I misunderstood the purpose of the code. The code, in reality, did not exactly apply or impact the program which is the whole point. I also didn't give the student a 0 for testing because I noticed the conditions are being tested. I overlooked the arguments of the execution of the code.\n",
    "\n",
    "How my project can meet standards:\n",
    "- I am going to use this to meet the standards when creating my program by coming up with a specific code segment that will earn the data abstraction point becuase the list will directly relate the the purpose of the program I described for the first point. I will also make sure all parts are included in terms of testing.\n"
   ]
  }
 ],
 "metadata": {
  "kernelspec": {
   "display_name": "Python 3.8.9 64-bit",
   "language": "python",
   "name": "python3"
  },
  "language_info": {
   "name": "python",
   "version": "3.8.9"
  },
  "orig_nbformat": 4,
  "vscode": {
   "interpreter": {
    "hash": "31f2aee4e71d21fbe5cf8b01ff0e069b9275f58929596ceb00d14d90e3e16cd6"
   }
  }
 },
 "nbformat": 4,
 "nbformat_minor": 2
}
