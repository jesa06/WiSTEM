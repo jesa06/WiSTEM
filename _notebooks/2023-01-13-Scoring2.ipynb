{
 "cells": [
  {
   "cell_type": "markdown",
   "metadata": {},
   "source": [
    "# Performance Task Scoring 1\n",
    "> lina awad\n",
    "\n",
    "- toc: true \n",
    "- layout: default\n",
    "- badges: true\n",
    "- categories: [other]"
   ]
  },
  {
   "cell_type": "markdown",
   "metadata": {},
   "source": [
    "|Category|Student Score|CB Score|Our Comments|CB Comments|Takeaways|\n",
    "|---|---|---|---|---|---|\n",
    "|Program Purpose and Function|---|---|---|---|---|\n",
    "|Data Abstraction|---|---|---|---|---|\n",
    "|Managing Complexity|---|---|---|---|---|\n",
    "|Procedural Abstraction|---|---|---|---|---|\n",
    "|Algorithm Implementation|---|---|---|---|---|\n",
    "|Testing|---|---|---|---|---|"
   ]
  }
 ],
 "metadata": {
  "kernelspec": {
   "display_name": "Python 3.8.9 64-bit",
   "language": "python",
   "name": "python3"
  },
  "language_info": {
   "name": "python",
   "version": "3.8.9"
  },
  "orig_nbformat": 4,
  "vscode": {
   "interpreter": {
    "hash": "31f2aee4e71d21fbe5cf8b01ff0e069b9275f58929596ceb00d14d90e3e16cd6"
   }
  }
 },
 "nbformat": 4,
 "nbformat_minor": 2
}
