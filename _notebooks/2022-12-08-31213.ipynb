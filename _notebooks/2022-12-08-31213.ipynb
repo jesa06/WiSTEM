{
 "cells": [
  {
   "cell_type": "markdown",
   "metadata": {},
   "source": [
    "# Lina Awad Chapter 3.12 and 3.13 Notes and Homework\n",
    "> Lina Awad: Lesson Notes and hacks\n",
    "\n",
    "- toc: true \n",
    "- layout: default\n",
    "- badges: true\n",
    "- categories: [lessons]"
   ]
  },
  {
   "cell_type": "markdown",
   "metadata": {},
   "source": [
    "### 3.12 Part 1 Lesson Notes\n",
    "\n",
    "- What is a procedure?\n",
    "\n",
    "#### Examples:\n",
    "\n",
    "MOVE_FORWARD()\n",
    "MOVE_FORWARD()\n",
    "detourRight()\n",
    "MOVE_FORWARD()\n",
    "ROTATE_RIGHT()\n",
    "PROCEUDRE detourRight()\n",
    "{\n",
    "ROTATE_RIGHT()\n",
    "MOVE_FORWARD()\n",
    "ROTATE_LEFT()\n",
    "MOVE_FORWARD()\n",
    "MOVE_FORWARD\n",
    "ROTATE_LEFT()\n",
    "MOVE_FORWARD()\n",
    "ROTATE_RIGHT\n",
    "}\n",
    "\n",
    "- ^ Use this code for moving the triange to the box\n",
    "\n",
    "\n"
   ]
  },
  {
   "cell_type": "markdown",
   "metadata": {},
   "source": [
    "### 3.12 Part 1 Hacks\n"
   ]
  },
  {
   "cell_type": "markdown",
   "metadata": {},
   "source": [
    "### 3.12 Part 2 Lesson Notes\n",
    "\n",
    "- Procedures are that a catch-all term for codes used to identify what was done to or given to a patient\n",
    "- If you have a set of statements in a procedure the statement will go thought the top of the procedure to the bottom in order.\n",
    "\n",
    "#### Practice Problem\n",
    "- temp <-- temp / 100\n",
    "\n",
    "- cost <-- cost x temp\n",
    "\n",
    "- Print(cost)\n",
    "\n",
    "- Answer:O.8 x 80 = 64\n",
    "\n",
    "Temperature procedure"
   ]
  },
  {
   "cell_type": "markdown",
   "metadata": {},
   "source": [
    "3.13 Part 1 Lesson Notes\n",
    "\n",
    "- Procedure: is a named group of programming instructions that serves a purpose\n",
    "- Parameter: are input values of a procedur\n",
    "- There are two types of procedures, one that returns a value or some type of data and on that just executes a block of statements\n",
    "\n",
    "Creating a Procedure:\n",
    "- When you are picking a name for the procedure it must be descriptive\n",
    "- See if you need any parameters for this procedure (what data do you need to accomplish my goal? What king of information am I going to need?)\n",
    "- 2 of the parameters in the example below could be the quizGrade and currentPoints (need this data)\n",
    "\n",
    "Example:\n",
    "- The retaken quiz will take over the other. The currect grade is currentPoints/totalPoints and then mulptipled by 100.\n",
    "\n",
    "Ourselves:\n",
    "- Rotate right, move forward\n"
   ]
  },
  {
   "cell_type": "markdown",
   "metadata": {},
   "source": [
    "3.13 Part 2 Lesson Notes\n",
    "\n",
    "- Modularity - the practice of breaking a complex program into smaller, independent parts or modules that can be used and reused in different parts of the program\n",
    "\n",
    "- Should be able to do multiple functions if you want an output.\n",
    "- Create an impactful procedure\n",
    "\n",
    "\n",
    "Example:\n",
    "- currentGrade = current points /75\n",
    "- currentGrade = current crade * 100\n",
    "    - if currentGrade > quizGrade\n",
    "    - return currentGrade }\n",
    "\n",
    "The procedure you'd want to use is the update function to make your procedure valuable."
   ]
  }
 ],
 "metadata": {
  "kernelspec": {
   "display_name": "Python 3.8.9 64-bit",
   "language": "python",
   "name": "python3"
  },
  "language_info": {
   "name": "python",
   "version": "3.8.9"
  },
  "orig_nbformat": 4,
  "vscode": {
   "interpreter": {
    "hash": "31f2aee4e71d21fbe5cf8b01ff0e069b9275f58929596ceb00d14d90e3e16cd6"
   }
  }
 },
 "nbformat": 4,
 "nbformat_minor": 2
}
