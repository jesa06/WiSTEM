{
 "cells": [
  {
   "cell_type": "markdown",
   "metadata": {},
   "source": [
    "# Lina Awad Chapter 3.8 and 3.10 Notes and Homework\n",
    "> Lina Awad: Lesson Notes and hacks\n",
    "\n",
    "- toc: true \n",
    "- layout: default\n",
    "- badges: true\n",
    "- categories: [lessons]"
   ]
  },
  {
   "cell_type": "markdown",
   "metadata": {},
   "source": [
    "3.8 Lesson Iteration\n",
    "\n",
    "- Repition of a bunch of steps\n",
    "- Two different types of loops: while loops and for loops.\n",
    "- Will run until conditions are met.\n",
    "\n",
    "Vocab I need to know:\n",
    "- Condition - Allows the computer to know whether or not to keep repeating the loop.\n",
    "- increment/decrement - Modifies the counter variable after each repetition.\n",
    "\n",
    "\n",
    "# Practice\n",
    "\n",
    "- Counter Variable: 10, Condition: Greater than 0\n",
    "- \"100 Times.The computer will execute the outer for loop 10 times (starting at i = 1 and ending after i = 10). Each time that it executes the outer loop, it will execute the inner for loop 10 times (starting at j = 1 and ending after j = 10). Each inner execution will call println() once.10 times 10 times 1 is 100, so the computer will call println() 100 times.\" In my own words I learned from this that since it will be 10 10 times, the answer would print 100.\n",
    "- \"2 Rabbits.The while loop checks that the number of rabbits is less than 100. As long as the population is less the 100, the code inside the loop continues to run.\" In my own words it says that the variable numRabbits was 2 before anything so it would be the intial value.\n",
    "\n",
    "\n",
    "3.10 Lesson Lists\n",
    "\n",
    "What are they?\n",
    "- Lists are processed through indexing\n",
    "- Will print out everything\n",
    "- Lists mutate, they don't affect the variable\n",
    "\n",
    "Nested Lists:\n",
    "- Placing lists within lists allows you to have arrays of similar data together, and create complexity.\n",
    "- Some uses include:\n",
    "- Creating 2d Arrays\n",
    "- Storing similar, but slightly different categories (sublists)\n",
    "- Create a matrix"
   ]
  },
  {
   "cell_type": "markdown",
   "metadata": {},
   "source": [
    "Insertion Sort:\n",
    "\n",
    "- Takes in unsorted list with numerical elements and returns with numerical elements in order\n",
    "- iterates through every element one at a time\n",
    "- check if element before the selected element is greater than or less than the selected element and adjust accordingly"
   ]
  },
  {
   "cell_type": "markdown",
   "metadata": {},
   "source": [
    "Excersize #1"
   ]
  },
  {
   "cell_type": "code",
   "execution_count": 3,
   "metadata": {},
   "outputs": [
    {
     "name": "stdout",
     "output_type": "stream",
     "text": [
      "[5, 4, 3, 2, 1]\n",
      "None\n"
     ]
    }
   ],
   "source": [
    "list = [1, 2, 3, 4, 5]\n",
    "list.reverse()\n",
    "print(list)\n",
    "newlist = list.reverse()\n",
    "print(newlist)"
   ]
  },
  {
   "cell_type": "markdown",
   "metadata": {},
   "source": [
    "Exercise #2"
   ]
  },
  {
   "cell_type": "code",
   "execution_count": 5,
   "metadata": {},
   "outputs": [
    {
     "name": "stdout",
     "output_type": "stream",
     "text": [
      "List before sort: [9, 8, 4, 3, 5, 2, 6, 7, 1, 0]\n",
      "list after sort [0, 1, 2, 3, 4, 5, 6, 7, 8, 9]\n"
     ]
    }
   ],
   "source": [
    "list = [9, 8, 4, 3, 5, 2, 6, 7, 1, 0] # Sort this array using bubble sort\n",
    "print(\"List before sort:\", list)\n",
    "\n",
    "def sort_list(List):\n",
    "    for index in range(1,len(list)): # repeats through length of the array\n",
    "        value = list[index]\n",
    "        i = index - 1\n",
    "        while i >= 0:\n",
    "            if value < list[i]:\n",
    "                list[i+1] = list[i] # shift number in slot i to the right\n",
    "                list[i] = value # shift value left into slot i\n",
    "                i = i - 1\n",
    "            else:\n",
    "                break\n",
    "\n",
    "IS = sort_list(list)\n",
    "print(f\"list after sort {list}\")"
   ]
  },
  {
   "cell_type": "markdown",
   "metadata": {},
   "source": [
    "## MC Quiz\n",
    "\n",
    "1. Correct: Repitition of a process\n",
    "\n",
    "2. Correct: coollection of data in a sequence that is iterable\n",
    "\n",
    "3. Correct: Four loops repeats a function for a set number of times.\n",
    "\n",
    "4. Correct: Append\n",
    "\n",
    "5. Correct: Posistion of element in a list starting at 0\n",
    "\n",
    "6. Correct: Removes last item from a list\n",
    "\n",
    "7. Correct: Sequence demarcated with an index starting at o\n",
    "\n",
    "8. Incorrect:\n",
    "- My answer: It iterates over an iterable and for a set amount of time.\n",
    "- Right answer: Loop over bound interval by comparing a conditional.\n",
    "\n",
    "![]({{site.baseurl}}/images/one.png)\n",
    "\n",
    "9. Incorrect:\n",
    "- My answer: WHILE loops\n",
    "- Right answer: FOR loops\n",
    "\n",
    "![]({{site.baseurl}}/images/two.png)\n",
    "\n",
    "10. Incorrect:\n",
    "- My answer: 1, a FOR loop\n",
    "- Right answer: 2, both FOR loops\n",
    "\n",
    "![]({{site.baseurl}}/images/three.png)\n",
    "\n",
    "My learning:\n",
    "- I learned a lot taking this quiz because it put a lot of the information from the lesson in a way I could understand that and effectively sort through the information. I also learned how to properly distinguish between while loops and for loops especially in the context of a situation. Most of the questions I got wrong were misunderstandings about the different types of loops but otherwise I felt pretty confident. Cool Quiz!"
   ]
  }
 ],
 "metadata": {
  "kernelspec": {
   "display_name": "Python 3.8.9 64-bit",
   "language": "python",
   "name": "python3"
  },
  "language_info": {
   "codemirror_mode": {
    "name": "ipython",
    "version": 3
   },
   "file_extension": ".py",
   "mimetype": "text/x-python",
   "name": "python",
   "nbconvert_exporter": "python",
   "pygments_lexer": "ipython3",
   "version": "3.8.9"
  },
  "orig_nbformat": 4,
  "vscode": {
   "interpreter": {
    "hash": "31f2aee4e71d21fbe5cf8b01ff0e069b9275f58929596ceb00d14d90e3e16cd6"
   }
  }
 },
 "nbformat": 4,
 "nbformat_minor": 2
}
