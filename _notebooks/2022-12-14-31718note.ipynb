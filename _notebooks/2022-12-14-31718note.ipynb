{
 "cells": [
  {
   "cell_type": "markdown",
   "metadata": {},
   "source": [
    "# Lina Awad Chapter 3.17 and 3.18 Notes and Homework\n",
    "> Lina Awad: Lesson Notes and hacks\n",
    "\n",
    "- toc: true \n",
    "- layout: default\n",
    "- badges: true\n",
    "- categories: [lessons]"
   ]
  },
  {
   "cell_type": "markdown",
   "metadata": {},
   "source": [
    "# Notes\n",
    "\n",
    "### 3.17 Part 1\n",
    "\n",
    "##### VOCAB/ESSENTIAL KNOWLEDGE\n",
    "- A problem is a description of a task that may or may not be able to be solved through the use of an algorithm. An instance of a problem includes a specific input. One example of this type of problem is a sorting problem.\n",
    "-m A decision problem is a problem with a binary answer (yes or no). An optimization problem is a problem with the objective of finding the BEST solution amongst many possibilities to solve a problem.\n",
    "- An algorithm's efficiency is determine through formal or mathematical reasoning.\n",
    "\n",
    "##### Example"
   ]
  },
  {
   "cell_type": "code",
   "execution_count": 2,
   "metadata": {},
   "outputs": [
    {
     "name": "stdout",
     "output_type": "stream",
     "text": [
      "Here is your sorted array:\n",
      "2\n",
      "4\n",
      "5\n",
      "7\n"
     ]
    }
   ],
   "source": [
    "def bubbleSort(arr):\n",
    "    n = len(arr)\n",
    "    \n",
    "    for i in range(n):\n",
    "        for j in range(0, n - i - 1):\n",
    "            if arr[j] > arr[j + 1]:\n",
    "                arr[j], arr[j + 1] = arr[j + 1], arr[j]\n",
    "\n",
    "arr = [4, 5, 7, 2]\n",
    "bubbleSort(arr)\n",
    "\n",
    "print(\"Here is your sorted array:\")\n",
    "for i in range(len(arr)):\n",
    "    print(\"%d\" % arr[i])"
   ]
  },
  {
   "cell_type": "markdown",
   "metadata": {},
   "source": [
    "- Bubble sort\n",
    "Keeps repeating back and forth\n",
    "- Took 7 comparisons\n",
    "- A lot more steps\n",
    "\n",
    "Instead:\n",
    "- Use a selection sort.\n",
    "- Less comparisons and less steps"
   ]
  },
  {
   "cell_type": "code",
   "execution_count": 3,
   "metadata": {},
   "outputs": [
    {
     "name": "stdout",
     "output_type": "stream",
     "text": [
      "Here is your sorted array:\n",
      "[2, 4, 5, 7]\n"
     ]
    }
   ],
   "source": [
    "def selectionSort(array,value):\n",
    "    for step in range(value):\n",
    "        min_element = step\n",
    "        \n",
    "        for i in range(step + 1, value):\n",
    "            if array[i] < array[min_element]:\n",
    "                min_element = i\n",
    "        (array[step], array[min_element]) = (array[min_element], array[step])\n",
    "        \n",
    "cards = [4, 5, 7, 2]\n",
    "value = len(cards)\n",
    "\n",
    "selectionSort(cards,value)\n",
    "\n",
    "print(\"Here is your sorted array:\")\n",
    "print(cards)"
   ]
  },
  {
   "cell_type": "markdown",
   "metadata": {},
   "source": [
    "Check For Understanding:\n",
    "\n",
    "1. As discussed in the essential knowledge, there are problems that can or cannot be solved algorithmically. Which of the following options provides a problem that cannot be solved with a computer algorithm?\n",
    "- A because it is less of a computer system and more like a simulation. A program or computer can't predict what it will be.\n",
    "- The answer would be option A. Though you might be able to find the best route for a set number of people to get to their floor, but at each floor that the elevator stops, new people may get on, people may get off on accident, etc, so there is a limit to how much you can optimize the problem with an algorithm."
   ]
  },
  {
   "cell_type": "markdown",
   "metadata": {},
   "source": [
    "### 3.17 Part 2\n",
    "\n",
    "To review, an algorithm is a process or set of rules to be followed in calculations or other problem-solving operations.\n",
    "\n",
    "Algorithms can be divided up into four types:\n",
    "\n",
    "- 1 step\n",
    "- 2 step\n",
    "- 3 step\n",
    "- 4 step\n",
    "\n",
    "The first step consists of an integer being multiplied by a variable 'n'. An example of this could be 5 * n.\n",
    "\n",
    "Practice Problem 1:\n",
    "\n",
    "Q: Which of the following algorithms is a step 1 algorithm?\n",
    "\n",
    "- A. 3^4\n",
    "- B. (2 x 4)^2\n",
    "- C. 2 x 4\n",
    "- D. 6^4\n",
    "\n",
    "Answer: C because it only takes one step when the others take multiple.\n",
    "\n",
    "A two-step algorithm consists of an integer to the power of the variable 'n'.\n",
    "\n",
    "Practice Problem 2:\n",
    "\n",
    "Q: Which of the following algorithms is a two-step algorithm?\n",
    "\n",
    "- A. 3^4 B. (2 x 4)^2 C. 2 x 4 D. 6 + 4\n",
    "\n",
    "Answer: The answer would be option A. Here, the integer is 3, and it is being raised to the power of 4.\n",
    "\n",
    "A three-step algorithm is an algorithm where there is a variable multiplied by an integer, all to the power of 2.\n",
    "\n",
    "An example of this would be (2 * n)^2.\n",
    "\n",
    "\n",
    "\n",
    "Finally, a four-step algorithm is a variable factorial. For instance, 5! = 5 4 3 2 1 = 120.\n",
    "\n",
    "\n",
    "\n",
    "- 1 step: Linear\n",
    "- 2 steps: Exponential\n",
    "- 3 steps: Square\n",
    "- 4 steps: Factorial\n",
    "\n",
    "###### Categorizing run time\n",
    "\n",
    "Constant time:\n",
    "- The value will stay constant among the x-axis for the graph situation\n",
    "\n",
    "Linear time:"
   ]
  },
  {
   "cell_type": "markdown",
   "metadata": {},
   "source": [
    "PROCEDURE searchList(numbers, targetNumber) {\n",
    "  index ← 1\n",
    "  REPEAT UNTIL (index > LENGTH(numbers)) {\n",
    "    IF (numbers[index] = targetNumber) {\n",
    "      RETURN index\n",
    "    }\n",
    "    index ← index + 1\n",
    "  }\n",
    "  RETURN -1\n",
    "}"
   ]
  },
  {
   "cell_type": "markdown",
   "metadata": {},
   "source": [
    "Quadratic time:"
   ]
  },
  {
   "cell_type": "markdown",
   "metadata": {},
   "source": [
    "i ← 1\n",
    "REPEAT UNTIL (i > LENGTH(numbers)) {\n",
    "  minIndex ← i\n",
    "  j ← i + 1\n",
    "  // Find next smallest value\n",
    "  REPEAT UNTIL (j > LENGTH(numbers)) {\n",
    "    IF (numbers[j] < numbers[minIndex]) {\n",
    "      minIndex ← j\n",
    "    }\n",
    "  }\n",
    "  // Swap if new minimum found\n",
    "  IF (minIndex != i) {\n",
    "    tempNum ← numbers[minIndex]\n",
    "    numbers[i] ← tempNum\n",
    "    numbers[minIndex] <- tempNum\n",
    "  }\n",
    "}"
   ]
  },
  {
   "cell_type": "markdown",
   "metadata": {},
   "source": [
    "Exponential time:\n",
    "00 01 02 03 04 05 06 07 08 09\n",
    "10 11 12 13 14 15 16 17 18 19\n",
    "20 21 22 23 24 25 26 27 28 29 \n",
    "30 31 32 33 34 35 36 37 38 39\n",
    "40 41 42 43 44 45 46 47 48 49\n",
    "50 51 52 53 54 55 56 57 58 59  \n",
    "60 61 62 63 64 65 66 67 68 69  \n",
    "70 71 72 73 74 75 76 77 78 79  \n",
    "80 81 82 83 84 85 86 87 88 89  \n",
    "90 91 92 93 94 95 96 97 98 99\n",
    "\n",
    "Exponential graph\n"
   ]
  },
  {
   "cell_type": "markdown",
   "metadata": {},
   "source": [
    "Polynomial vs. superpolynomial:\n",
    "\n",
    "- Polynomial time describes any run time that does not increase faster than n^k which includes Constant time, Quadratic time, and other higher degree polynomials.\n",
    "\n",
    "- Superpolynomial time describes any run time that does increase faster than n^k which includes Exponential time and factorial time"
   ]
  },
  {
   "cell_type": "markdown",
   "metadata": {},
   "source": [
    "##### 3.18\n",
    "\n",
    "There exist problems that computers cannot solve, and even when a computer can solve a problem, it may not be able to do so in a reasonable amount of time.\n",
    "\n"
   ]
  },
  {
   "cell_type": "code",
   "execution_count": 6,
   "metadata": {},
   "outputs": [
    {
     "name": "stdout",
     "output_type": "stream",
     "text": [
      "is not even\n"
     ]
    }
   ],
   "source": [
    "num = 4\n",
    "\n",
    "if num % 2 == 0: # divides num by 2 and checks remainder. \n",
    "    print(\"is even\") # if remainder is 0, num is even\n",
    "else:\n",
    "    print(\"is not even\") # if there is any remainder e.g its odd num: num is odd\n",
    "\n",
    "# all inputs will provide a yes or no answer"
   ]
  },
  {
   "cell_type": "markdown",
   "metadata": {},
   "source": [
    "This one gives us a yes or no answer so it is decidable"
   ]
  },
  {
   "cell_type": "code",
   "execution_count": null,
   "metadata": {},
   "outputs": [],
   "source": [
    "# given a computer program and an input... \n",
    "# will the program terminate or will it run forever?\n",
    "\n",
    "x = input()\n",
    "while x:\n",
    "    pass\n",
    "\n",
    "# this reads the input, \n",
    "# and if it's not empty, the procedure loops forever."
   ]
  },
  {
   "cell_type": "markdown",
   "metadata": {},
   "source": [
    "Vocab:\n",
    "- undecidable problem\tproblems for which no algorithms can be built that can provide a correct yes or no answer or a solution\n",
    "- decidable problem\tproblems for which algorthms could be written to solve/produce a correct output for all inputs.\n",
    "- instance of a problem: one specific value is inputted\n",
    "- optimization problem: Problem with the objective of finding the BEST solution amongst many possibilities to solve a problem\n",
    "- constant Time: Will always take the same number of steps, no matter how large input it\n",
    "- linear Time: The number of steps increases in direct proportion to the input size\n",
    "- quadratic Time: The number of steps increase in proportion to the input size squared\n",
    "- exponential Time: The number of steps increase in proportion to the input size squared\n",
    "- reasonable Time: Algorithms with a polynomial efficiency or lower (constant, linear, square, cube, etc.)\n",
    "- unreasonable Time: Algorithms with exponential or factorial efficiencies"
   ]
  },
  {
   "cell_type": "markdown",
   "metadata": {},
   "source": [
    "Question 1: can there be some algorithmic solutions for some inputs/instances of a undecidable problem?\n",
    "\n",
    "YES\n",
    "\n",
    "Question 1.5: Are there algorithmic solutions for all inputs/instances of an undecidable problem?\n",
    "\n",
    "NO\n",
    "\n",
    "Question 2: Is the following problem undecidable or decidable?\n",
    "\n",
    "\n",
    "Problem: is the number given by user input greater than 20?\n",
    "\n",
    "DECIDABLE\n",
    "\n",
    "Question 3: the following algorithm solves the problem below. is the problem decidable or undecidable?\n",
    "\n",
    "Problem: are there more different kinds of fruits in stock or more different kinds of vegetables in stock?\n",
    "\n",
    "DECIDABLE\n",
    "\n",
    "Question 4: God is omnipotent, so can God create a stone that he cannot lift? Why or why not? (zeem)\n",
    "\n",
    "ANSWERS: true, false, decidable, decidable\n",
    "\n",
    "UNDECIDABLE"
   ]
  },
  {
   "cell_type": "markdown",
   "metadata": {},
   "source": [
    "### HACKS\n",
    "\n",
    "#### HACK 1\n",
    "Please write a short 1-2 sentence explanation describing the difference between decidable and undecidable problems. Make sure to provide at least one example of each.\n",
    "- A decidable problem is a problem where a correct solution will be given for any input. The definition from the notes defines it as \"problems for which algorithms can be written to solve/produce a correct output for all possible inputs.\" An example of a decidable problem would be deciding if a number is odd or not. Any value that is inputed will output a correct result\n",
    "- An undecidable problem is where the algorithm can't solve any input with an answer of yes or no. An example I liked from the lesson of an undecidable problem would include the Zeen example. The barber can't cut his own hair because he promised to not cut the hair of people who cut their hair. This would repeat and never give an answer.\n"
   ]
  },
  {
   "cell_type": "markdown",
   "metadata": {},
   "source": [
    "Decidable Example:"
   ]
  },
  {
   "cell_type": "code",
   "execution_count": 11,
   "metadata": {},
   "outputs": [
    {
     "name": "stdout",
     "output_type": "stream",
     "text": [
      "is odd\n"
     ]
    }
   ],
   "source": [
    "num = 27\n",
    "if num % 2 == 1: \n",
    "    print(\"is odd\") \n",
    "else:\n",
    "    print(\"is not odd\") "
   ]
  },
  {
   "cell_type": "markdown",
   "metadata": {},
   "source": [
    "Undecidable example(this is the example given):"
   ]
  },
  {
   "cell_type": "code",
   "execution_count": null,
   "metadata": {},
   "outputs": [],
   "source": [
    "x = input()\n",
    "while x:\n",
    "    pass\n"
   ]
  },
  {
   "cell_type": "markdown",
   "metadata": {},
   "source": [
    "#### HACK 2\n",
    "\n",
    "Which of the following is a 3 step algorithm?\n",
    "\n",
    "A. 2 x 6 x 8\n",
    "\n",
    "B. 4^5\n",
    "\n",
    "C. (3 x 8)^2\n",
    "\n",
    "D. None of the above\n",
    "\n",
    "E. All of the above\n",
    "\n",
    "ANSWER: C is a 3 step algorithm because the first step is to multiply 3 and 8. Then when you square this value it takes two more steps to multiply it by itself. That is why (3 x 8)^2 is the 3 step algorithm."
   ]
  },
  {
   "cell_type": "markdown",
   "metadata": {},
   "source": [
    "#### HACK 3"
   ]
  },
  {
   "cell_type": "code",
   "execution_count": null,
   "metadata": {
    "vscode": {
     "languageId": "javascript"
    }
   },
   "outputs": [],
   "source": [
    "function peak_finder(array){\n",
    "  let counter = 0\n",
    "  let peak = 0\n",
    "  let peak_index =0\n",
    "  while (counter <= array.length){\n",
    "    console.log(counter)\n",
    "  if (counter === 0){\n",
    "    if (a[0]>=a[1]){\n",
    "      peak = a[0]\n",
    "      peak_index = counter\n",
    "      counter = array.length\n",
    "      return `The ${counter-1} indexed number, ${peak} is a peak`\n",
    "    }else{\n",
    "      counter+=1\n",
    "    }\n",
    "  }else if(counter === array.length-1){\n",
    "     if (a[array.length-1] >= a[array.length-2]){\n",
    "     peak = a[array.length-1]\n",
    "     peak_index = counter\n",
    "     counter = array.length\n",
    "     return `The ${counter-1} indexed number, ${peak} is a peak`\n",
    "     }\n",
    "   }else{\n",
    "      if (a[counter]> a[counter+1] && a[counter]> a[counter-1]){\n",
    "      peak = a[counter]\n",
    "      peak_index = counter\n",
    "      counter = array.length\n",
    "      return `The ${counter-1} indexed number, ${peak} is a peak`\n",
    "    }else{\n",
    "      counter += 1\n",
    "    }\n",
    "  }\n",
    "}\n",
    "}"
   ]
  },
  {
   "cell_type": "code",
   "execution_count": null,
   "metadata": {
    "vscode": {
     "languageId": "html"
    }
   },
   "outputs": [],
   "source": [
    "\n",
    "function peak_finder2(array){\n",
    "  if (array.length)=== 0{\n",
    "     return  `Array cannot be empty`\n",
    "   }else if (array.length === 1){\n",
    "     return array[0]\n",
    "   }else{\n",
    "     let mid_index = Math.floor(array.length*0.5)\n",
    "    if (array[mid_index +1]>array[mid_index]){\n",
    "       return peak_finding(array.slice(mid_index + 1 ))\n",
    "     }else if (array[mid_index -1]>array[mid_index]){ \n",
    "      new=array.reverse().slice(mid_index+1).reverse()\n",
    "      return peak_finding(new)  \n",
    "      }else{\n",
    "       return array[mid_index]\n",
    "      }\n",
    "    }\n",
    "}"
   ]
  },
  {
   "cell_type": "markdown",
   "metadata": {},
   "source": [
    "Explanation because at first I didn't get it: \n",
    "- I think that this works because it simplifies the array.length because they are all the same. I also realized that these settings for cuunter, peak, and peak_index are probably set at zero by default without a statement. It also makes the counter and the returns a lot simpler and there is less code to look through. Some specifics would probably include the specific commands in the code. For example \"mid.index\", \"array.slic\", etc. I think being able to look and analyze the answers the whole concept makes a lot more sense than it had originally.\n",
    "\n",
    "#### HACK 4"
   ]
  },
  {
   "cell_type": "code",
   "execution_count": 16,
   "metadata": {},
   "outputs": [
    {
     "name": "stdout",
     "output_type": "stream",
     "text": [
      "[0, 1, 2, 3, 4, 5, 6, 7, 8, 9]\n"
     ]
    }
   ],
   "source": [
    "def merge_sort(data):\n",
    "    if len(data) <= 1:\n",
    "        return\n",
    "    \n",
    "    mid = len(data) // 2\n",
    "    left_data = data[:mid]\n",
    "    right_data = data[mid:]\n",
    "    \n",
    "    merge_sort(left_data)\n",
    "    merge_sort(right_data)\n",
    "    \n",
    "    left_index = 0\n",
    "    right_index = 0\n",
    "    data_index = 0\n",
    "    \n",
    "    while left_index < len(left_data) and right_index < len(right_data):\n",
    "        if left_data[left_index] < right_data[right_index]:\n",
    "            data[data_index] = left_data[left_index]\n",
    "            left_index += 1\n",
    "        else:\n",
    "            data[data_index] = right_data[right_index]\n",
    "            right_index += 1\n",
    "        data_index += 1\n",
    "    \n",
    "    if left_index < len(left_data):\n",
    "        del data[data_index:]\n",
    "        data += left_data[left_index:]\n",
    "    elif right_index < len(right_data):\n",
    "        del data[data_index:]\n",
    "        data += right_data[right_index:]\n",
    "    \n",
    "if __name__ == '__main__':\n",
    "    data = [9, 1, 7, 6, 2, 8, 5, 3, 4, 0]\n",
    "    merge_sort(data)\n",
    "    print(data)"
   ]
  },
  {
   "cell_type": "markdown",
   "metadata": {},
   "source": [
    "Answer:"
   ]
  },
  {
   "cell_type": "code",
   "execution_count": 28,
   "metadata": {},
   "outputs": [
    {
     "name": "stdout",
     "output_type": "stream",
     "text": [
      "post-sort [0, 1, 2, 3, 4, 5, 6, 7, 8, 9]\n"
     ]
    }
   ],
   "source": [
    "data = [9, 1, 7, 6, 2, 8, 5, 3, 4, 0] \n",
    "\n",
    "data.sort()  \n",
    "\n",
    "print(\"post-sort\", data)"
   ]
  },
  {
   "cell_type": "markdown",
   "metadata": {},
   "source": [
    "Explanation: This code gives a much simpler way of sorting data. The data is given, but it simply asks for the data.sort() and is way more efficient than writing over 20 lines of code."
   ]
  },
  {
   "cell_type": "markdown",
   "metadata": {},
   "source": [
    "### HACK 5"
   ]
  },
  {
   "cell_type": "code",
   "execution_count": 21,
   "metadata": {},
   "outputs": [
    {
     "name": "stdout",
     "output_type": "stream",
     "text": [
      "[1, 2, 3]\n",
      "[2, 1, 3]\n",
      "[3, 1, 2]\n",
      "[1, 3, 2]\n",
      "[2, 3, 1]\n",
      "[3, 2, 1]\n"
     ]
    }
   ],
   "source": [
    "def heap_permutation(data, n):\n",
    "    if n == 1:\n",
    "        print(data)\n",
    "        return\n",
    "    \n",
    "    for i in range(n):\n",
    "        heap_permutation(data, n - 1)\n",
    "        if n % 2 == 0:\n",
    "            data[i], data[n-1] = data[n-1], data[i]\n",
    "        else:\n",
    "            data[0], data[n-1] = data[n-1], data[0]\n",
    "    \n",
    "if __name__ == '__main__':\n",
    "    data = [1, 2, 3]\n",
    "    heap_permutation(data, len(data))"
   ]
  },
  {
   "cell_type": "markdown",
   "metadata": {},
   "source": [
    "Answer:"
   ]
  },
  {
   "cell_type": "code",
   "execution_count": 26,
   "metadata": {},
   "outputs": [
    {
     "name": "stdout",
     "output_type": "stream",
     "text": [
      "[(1, 2, 3)]\n",
      "[(1, 3, 2)]\n",
      "[(2, 1, 3)]\n",
      "[(2, 3, 1)]\n",
      "[(3, 1, 2)]\n",
      "[(3, 2, 1)]\n"
     ]
    }
   ],
   "source": [
    "from itertools import permutations \n",
    "\n",
    "sort = permutations([1, 2, 3], 3) \n",
    "\n",
    "for i in list(sort): \n",
    "    print ([i]) "
   ]
  },
  {
   "cell_type": "markdown",
   "metadata": {},
   "source": [
    "Explanation: Obviously the code is shorter so it is easier to manage. The permutations are used in this case to make it easier. Then it stores the values in different orders."
   ]
  },
  {
   "cell_type": "markdown",
   "metadata": {},
   "source": [
    "### Reflection\n",
    "\n",
    "I liked your lesson because it was more interesting than some of the other lessons. It had clear definitions and new things that I had never really heard of or would have known before. It was new and fun and engaging, good job!"
   ]
  }
 ],
 "metadata": {
  "kernelspec": {
   "display_name": "Python 3.8.9 64-bit",
   "language": "python",
   "name": "python3"
  },
  "language_info": {
   "codemirror_mode": {
    "name": "ipython",
    "version": 3
   },
   "file_extension": ".py",
   "mimetype": "text/x-python",
   "name": "python",
   "nbconvert_exporter": "python",
   "pygments_lexer": "ipython3",
   "version": "3.8.9"
  },
  "orig_nbformat": 4,
  "vscode": {
   "interpreter": {
    "hash": "31f2aee4e71d21fbe5cf8b01ff0e069b9275f58929596ceb00d14d90e3e16cd6"
   }
  }
 },
 "nbformat": 4,
 "nbformat_minor": 2
}
