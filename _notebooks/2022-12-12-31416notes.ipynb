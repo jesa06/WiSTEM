{
 "cells": [
  {
   "cell_type": "markdown",
   "metadata": {},
   "source": [
    "# Lina Awad Chapter 3.14-3.15 Notes and Homework\n",
    "> Lina Awad: Lesson Notes and hacks\n",
    "\n",
    "- toc: true \n",
    "- layout: default\n",
    "- badges: true\n",
    "- categories: [lessons]"
   ]
  },
  {
   "cell_type": "markdown",
   "metadata": {},
   "source": [
    "## NOTES\n",
    "\n",
    "### 3.14\n",
    "Essential Knowlege:\n",
    "- Software libraries contain procedures used in creating novel programs.\n",
    "- Existing code segments can be derived from internal or external sources: Libraries, Previously written code.\n",
    "- Libraries simplify complex programs.\n",
    "- APIs (application program interfaces) specify how procedures in libraries should behave and be utilized.\n",
    "- Documentation for APIs/Libraries are necessary to gain proper understanding into how to use them.\n",
    "\n",
    "Vocab:\n",
    "- Documentation: Text that explains the what, how, or why of your code.\n",
    "- Libraries: A collection of prewritten code or procedures that coders can use to maximize their efficiency\n",
    "- Application Programming Interface: A type of software through several computers are able to communicate information amongst eachother\n",
    "\n",
    "Reusing code:\n",
    "- The block will move backwards ,move forwards, rotate right, then move forward twice.\n",
    "- We should know how to follow this procedure to get the robot from one spot to another\n",
    "- Use our words to explain procedure\n",
    "    - Keeps adding the number to the variable sum.\n",
    "    - This procedure takes a list represetning percentages then represents the integers.\n",
    "\n",
    "Practice Problems:\n",
    "\n",
    "1. Which of the following would be MOST useful as part of a program that determines Grade Point Average?\n",
    "- Answer: 2 because you calculate an average by adding a sum of two numbers. \n",
    "- \"n order to calculate a GPA, it is necessary to take sum of the letter grades' corresponding numbers, and divide them by the number of grades\"\n",
    "\n",
    "2. Which of the following would be LEAST useful in a program that helps choose the best restaurant within 5 miles of your location?\n",
    "- Answer: 3 this wouldn't help us pick a resturaunt it would help pick a vegetarian option not the best food place.\n",
    "\n",
    "### 3.15\n",
    "\n",
    "Randomization:\n",
    "- Write expressions to generate possible values\n",
    "- Evaluate expressions to determine the possible results\n",
    "\n",
    "Need to know:\n",
    "- each result is as likely to occur as the others.\n",
    "\n",
    "1. Example Problem:\n",
    "- answer1 = random(0,2)\n",
    "- answer2 = random(1,5)\n",
    "- answer3 = answer1 + answer2\n",
    "\n",
    "- Answer: 1-7 because the lowest possible value is 1 and the greatest is 7.\n",
    "- [1,2,3,4,5,6,7]\n",
    "\n",
    "2. Example Problem: \n",
    "- A) sum = 3 * random(1,6)\n",
    "- B) sum = random(1,18)\n",
    "- C) sum = random(1,6) + random(1,6) + random(1,6)\n",
    "\n",
    "- Answer: C because theres three trials\n",
    "\n",
    "3. Answer: C 3 1 2 it has to be three and you can eliminate the other choices.\n",
    "\n",
    "More examples of randomization:"
   ]
  },
  {
   "cell_type": "code",
   "execution_count": 2,
   "metadata": {},
   "outputs": [
    {
     "name": "stdout",
     "output_type": "stream",
     "text": [
      "You should watch Cobra Kai!\n"
     ]
    }
   ],
   "source": [
    "import random\n",
    "\n",
    "tvshows_list = ['Squid Game', 'Cobra Kai', 'Gilmore Girls', 'Sherlock Holmes', 'Barbie in the Dream House']\n",
    "\n",
    "# pick a random choice from a list of strings.\n",
    "random_tvshow = random.choice(tvshows_list)\n",
    "print(f\"You should watch {random_tvshow}!\")"
   ]
  },
  {
   "cell_type": "code",
   "execution_count": null,
   "metadata": {},
   "outputs": [],
   "source": [
    "import random\n",
    "\n",
    "num_list = [7,8,10,22]\n",
    "\n",
    "print(\"List before using shuffle: \", num_list)\n",
    "random.shuffle(num_list)\n",
    "\n",
    "print(\"List after using shuffle method: \", num_list)"
   ]
  },
  {
   "cell_type": "markdown",
   "metadata": {},
   "source": [
    "Syntax:\n",
    "- In collegeboard psudo-code RANDOM(a, b) is used to generate a random integer value in the range from a to b. For example if RANDOM(1, 5) is written 1, 2, 3, 4, and 5 have the same chance to show up. In Python the random library can be imported and the min and max ranges can be set to any integer."
   ]
  },
  {
   "cell_type": "code",
   "execution_count": null,
   "metadata": {},
   "outputs": [],
   "source": [
    "import random  ## The random library must be imported to use it's functions\n",
    "\n",
    "## Either randint or randrange can be used the only difference is that you can use a step function in randrange and the max value won't be inclued\n",
    "\n",
    "x = 0\n",
    "a = 0\n",
    "b = 100\n",
    "\n",
    "while x < 10:\n",
    "    print ('-----')\n",
    "    x = x + 1\n",
    "    \n",
    "    i = random.randint(a, b)\n",
    "    r = random.randrange(a, b, 10)  \n",
    "    print(i, r)"
   ]
  },
  {
   "cell_type": "markdown",
   "metadata": {},
   "source": [
    "randint:\n",
    "- A general way to to write this is randint(start, stop) where start is the minimum value, stop is the maximum value. And this allows you to generate a random integer from a set range and this can help you create code for things like a coin-flip, dice roll, and anything else which needs an inclusive range."
   ]
  },
  {
   "cell_type": "code",
   "execution_count": 3,
   "metadata": {},
   "outputs": [
    {
     "name": "stdout",
     "output_type": "stream",
     "text": [
      "5\n",
      "3\n",
      "2\n",
      "4\n",
      "4\n",
      "3\n",
      "2\n",
      "6\n",
      "2\n",
      "1\n"
     ]
    }
   ],
   "source": [
    "numRolls = 10\n",
    "x = 0\n",
    "while x < numRolls:\n",
    "    x = x + 1 \n",
    "    i = random.randint(1, 6)\n",
    "    print(i)"
   ]
  },
  {
   "cell_type": "markdown",
   "metadata": {},
   "source": [
    "randrange:\n",
    "- In general randrange can be written like randrange(start, stop, step) where start is the minimum value, stop is the maximum value (like the randint function), and step is the incriment the values can be and its default value is 1. If start = 0 and step = 5 all the values that can by outputed are 0 and multiples of 5. And if start = 2 and step = 3 the output would be 2 and a multiple of 3 plus 2."
   ]
  },
  {
   "cell_type": "code",
   "execution_count": 4,
   "metadata": {},
   "outputs": [
    {
     "name": "stdout",
     "output_type": "stream",
     "text": [
      "26\n",
      "20\n",
      "8\n",
      "11\n",
      "11\n",
      "8\n",
      "5\n",
      "2\n",
      "26\n",
      "2\n"
     ]
    }
   ],
   "source": [
    "x = 0\n",
    "while x < 10:\n",
    "    x = x + 1\n",
    "    \n",
    "    r = random.randrange(2, 30, 3)  \n",
    "    print(r)"
   ]
  },
  {
   "cell_type": "markdown",
   "metadata": {},
   "source": [
    "For the outputs above (except 2) if you were to subtract 2 from them you would get a multiple of 3."
   ]
  },
  {
   "cell_type": "markdown",
   "metadata": {},
   "source": [
    "Practice Problems:\n",
    "\n",
    "1. IF () { shotMade ← true DISPLAY(\"Score!\") } ELSE { DISPLAY(\"Miss!\") }\n",
    "\n",
    "- Answer: 1 and 4 both work because 1 includes the values from 1-75 which means that it has a 75% chance to be chosen and 4 includes the values of 1, 2, and 3 which makes 3/4 which is the same as a 75% chance.\n",
    "\n",
    "2. row ← RANDOM(1, 3) column ← RANDOM(1, 2) POINT(row, column)\n",
    "\n",
    "- Answer: rows 1 and 2 have a rando chance and so do column 1 2 and 3"
   ]
  },
  {
   "cell_type": "markdown",
   "metadata": {},
   "source": [
    "# Hacks\n",
    "\n",
    "### Reflection\n",
    "- I really liked the practice problems for the different lesson types because they were very manageable and related to what I was taught. I also learned the vocab about documentation and libraries. I also especially liked the section on randomization because I found it the most interesting and fun. I also learned that APIs can be used to make storing and using data easier.\n",
    "\n",
    "### Multiple Choice\n",
    "\n",
    "1. What does the random(a,b) function generate?\n",
    "- A. A random integer from a to be exclusive\n",
    "- B. A random integer from a to b inclusive.\n",
    "- C. A random word from variable a to variable b exclusive.\n",
    "- D. A random word from variable a to variable b inclusive.\n",
    "\n",
    "ANSWER+EXPLANATION:\n",
    "- B is the correct answer because the data type is an integer not a string so it would not be a word it would be an integer. Also it would be inclusive over exclusive because a and b would be part of the situation and can each be the integer picked at random.\n",
    "\n",
    "\n",
    "2. What is x, y, and z in random.randrange(x, y, z)?\n",
    "- A. x = start, y = stop, z = step\n",
    "- B. x = start, y = step, z = stop\n",
    "- C. x = stop, y = start, z = step\n",
    "- D. x = step, y = start, z = stop\n",
    "\n",
    "ANSWER+EXPLANATION:\n",
    "- A is the correct answer because in the lesson, a general radgrange is written like this: random.radrage(start, stop, step). Now, if you compare the leters and words relative to each other, you would get the answer A. Where x is start, y is stop, and z is stop. It also means that x is the minimus value and y is the maximum value based on the order. What z being the step means is that it is the increment the values can be.\n",
    "\n",
    "\n",
    "3. Which of the following is NOT part of the random library?\n",
    "- A. random.item\n",
    "- B. random.random\n",
    "- C. random.shuffle\n",
    "- D. random.randint\n",
    "\n",
    "ANSWER+EXPLANATION:\n",
    "- A is the correct answer because random.item is not a part of the random library. This is because it lacks the necessary parameters that would make a random library valid.\n",
    "\n",
    "### Short answer questions\n",
    "\n",
    "1. What is the advantage of using libraries?\n",
    "- A library shows what is should be. The advantage of using libraries is that libraries help simplify complex programs and they also collect prewritten code and procedures. Libraries also help maximize their efficiency too. It also allows for flexibility in the code.\n",
    "\n",
    "2. Write a thorough documentation of the following code."
   ]
  },
  {
   "cell_type": "code",
   "execution_count": null,
   "metadata": {},
   "outputs": [],
   "source": [
    "import random \n",
    "# This will import the random library\n",
    "names_string = input(\"Give me everybody's names, separated by a comma.\")\n",
    "# It asks for the user to input everyones names with separation of a comma\n",
    "names = names_string.split(\",\")\n",
    "# This split it a methos that can sort the different names with a comma\n",
    "num_items = len(names)\n",
    "# This will find the number of items, the len looks for the length of the names\n",
    "random_choice = random.randint(0, num_items - 1)\n",
    "# This gets any random integer. It used the random.radint feature. Numitems-1 gives for the last index\n",
    "person_who_will_pay = names[random_choice]\n",
    "# A random person will pay\n",
    "print(f\"{person_who_will_pay} is going to buy the meal today!\")\n",
    "# This displays the name of the person paying and the rest of the response."
   ]
  },
  {
   "cell_type": "markdown",
   "metadata": {},
   "source": [
    "Documentation but typed out:\n",
    "- This will import the random library\n",
    "- It asks for the user to input everyones names with separation of a comma\n",
    "- This split it a methos that can sort the different names with a comma\n",
    "- This will find the number of items, the len looks for the length of the names\n",
    "- This gets any random integer. It used the random.radint feature. Numitems-1 gives for the last index\n",
    "- A random person will pay\n",
    "- This displays the name of the person paying and the rest of the response."
   ]
  },
  {
   "cell_type": "markdown",
   "metadata": {},
   "source": [
    "Create a program to pick five random names from a list of at least 15 names"
   ]
  },
  {
   "cell_type": "code",
   "execution_count": 5,
   "metadata": {},
   "outputs": [
    {
     "name": "stdout",
     "output_type": "stream",
     "text": [
      "Joe\n",
      "Amitha\n",
      "Marleyh\n"
     ]
    }
   ],
   "source": [
    "import random\n",
    "\n",
    "lst = [\"Lina\", \"Joselyn\", \"Naja\",\"Amitha\", \"Joey\", \"Marleyh\", \"Nathan\",\"Joe\", \"Soleil\", \"Kale\", \"Madison\", \"Lucas\", \"Sunny\", \"Kylie\", \"Kim\"]\n",
    "\n",
    "for i in range(3):\n",
    "    print(random.choice(lst))"
   ]
  },
  {
   "cell_type": "code",
   "execution_count": 6,
   "metadata": {},
   "outputs": [
    {
     "name": "stdout",
     "output_type": "stream",
     "text": [
      "First player rolls: 1 and 4: total 5\n",
      "Second player rolls: 1 and 3: total 4\n",
      "player 1 wins\n"
     ]
    }
   ],
   "source": [
    "import random\n",
    "i1 = random.randrange(1, 6)\n",
    "i2 = random.randrange(1,6)\n",
    "print(f\"First player rolls: {i1} and {i2}: total {i1+i2}\")\n",
    "\n",
    "i3 = random.randrange(1, 6)\n",
    "i4 = random.randrange(1, 6)\n",
    "print(f\"Second player rolls: {i3} and {i4}: total {i3+i4}\")\n",
    "\n",
    "if (i1+i2 > i3 + i4):\n",
    "    print(\"player 1 wins\")\n",
    "elif (i1+i2 < i3 + i4):\n",
    "    print(\"player 2 wins\")\n",
    "else: \n",
    "    print('draw')"
   ]
  }
 ],
 "metadata": {
  "kernelspec": {
   "display_name": "Python 3.8.9 64-bit",
   "language": "python",
   "name": "python3"
  },
  "language_info": {
   "codemirror_mode": {
    "name": "ipython",
    "version": 3
   },
   "file_extension": ".py",
   "mimetype": "text/x-python",
   "name": "python",
   "nbconvert_exporter": "python",
   "pygments_lexer": "ipython3",
   "version": "3.8.9"
  },
  "orig_nbformat": 4,
  "vscode": {
   "interpreter": {
    "hash": "31f2aee4e71d21fbe5cf8b01ff0e069b9275f58929596ceb00d14d90e3e16cd6"
   }
  }
 },
 "nbformat": 4,
 "nbformat_minor": 2
}
